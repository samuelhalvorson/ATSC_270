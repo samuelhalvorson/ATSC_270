{
 "cells": [
  {
   "cell_type": "markdown",
   "id": "bd61f82f",
   "metadata": {},
   "source": [
    "# ASSIGNMENT #2 - ATMOSPHERIC SOUNDINGS #\n",
    "Due: 04 February 2023 @ 11:59p"
   ]
  },
  {
   "cell_type": "markdown",
   "id": "816b3dd4",
   "metadata": {},
   "source": [
    "Purpose:\\\n",
    "The purpose of this assignment is to become familiar with reading in text data, storing the data in arrays, applying metpy units, and outputting the data into easily read files.\n",
    "\n",
    "Overview:\\\n",
    "In this assignment you will read in atmospheric sounding data and apply units to the data and print the data to a text file and a comma-separated value (csv) text file.\n",
    "\n",
    "\n",
    "| | UPDATE TO YOUR INFORMATION | \n",
    "| :- | :- |\n",
    "| Created By | Sam Halvorson |\n",
    "| Creation Date | 22 January 2024 |\n",
    "| Course | ATSC 270 - Computer Concepts in Meteorology |"
   ]
  },
  {
   "cell_type": "code",
   "execution_count": 34,
   "id": "eb870142",
   "metadata": {},
   "outputs": [],
   "source": [
    "### UPDATE TO YOUR INFORMATION ###\n",
    "#information allowing anyone with the code to print the author and contact information\n",
    "__author__    = \"Sam Halvorson\"\n",
    "__contact__   = \"samuel.t.halvorson@und.edu\""
   ]
  },
  {
   "cell_type": "markdown",
   "id": "7dec3f1b",
   "metadata": {},
   "source": [
    "### IMPORT REQUIRED LIBRARIES ###"
   ]
  },
  {
   "cell_type": "code",
   "execution_count": 35,
   "id": "b4b5cb45",
   "metadata": {},
   "outputs": [],
   "source": [
    "import numpy as np\n",
    "from metpy.calc import wind_components\n",
    "from metpy.units import units\n",
    "import pandas as pd"
   ]
  },
  {
   "cell_type": "markdown",
   "id": "1df8fe8f",
   "metadata": {},
   "source": [
    "### OPEN SOUNDING FILE ###"
   ]
  },
  {
   "cell_type": "code",
   "execution_count": 36,
   "id": "2a62a4f1",
   "metadata": {},
   "outputs": [],
   "source": [
    "#open file\n",
    "\n",
    "soundingFile = open(\"KBIS_2009011512.txt\", \"r\").readlines()\n"
   ]
  },
  {
   "cell_type": "markdown",
   "id": "133b2f64",
   "metadata": {},
   "source": [
    "### READ IN DATA INTO LISTS ###"
   ]
  },
  {
   "cell_type": "code",
   "execution_count": 37,
   "id": "65907f20",
   "metadata": {},
   "outputs": [],
   "source": [
    "#append works best here, even though appending is bad\n",
    "#station,validUTC,levelcode,pressure_mb,height_m,tmpc,dwpc,drct,speed_kts,bearing,range_sm\n",
    "\n",
    "#initializing empty lists for data\n",
    "station = []\n",
    "time = []\n",
    "levelCode = []\n",
    "pressure = []\n",
    "height = []\n",
    "temperature = []\n",
    "dewpoint = []\n",
    "windDirection = []\n",
    "windSpeed = []\n",
    "bearing = []\n",
    "rangeSM = []\n",
    "\n",
    "#appending data into lists by looping through each line in the file except the first one\n",
    "for line in soundingFile[1:]:\n",
    "    station.append(line.split(\",\")[0])\n",
    "    time.append(line.split(\",\")[1])\n",
    "    levelCode.append(line.split(\",\")[2])\n",
    "    pressure.append(line.split(\",\")[3])\n",
    "    height.append(line.split(\",\")[4])\n",
    "    temperature.append(line.split(\",\")[5])\n",
    "    dewpoint.append(line.split(\",\")[6])\n",
    "    windDirection.append(line.split(\",\")[7])\n",
    "    windSpeed.append(line.split(\",\")[8])\n",
    "    bearing.append(line.split(\",\")[9])\n",
    "    rangeSM.append(line.split(\",\")[10].rstrip())\n",
    "\n",
    "\n",
    "\n",
    "\n",
    "\n",
    "\n"
   ]
  },
  {
   "cell_type": "markdown",
   "id": "be194c5e",
   "metadata": {},
   "source": [
    "### SUBSET TO MANDATORY AND SIGNIFICANT LEVELS ###\n",
    "\n",
    "#### This should remove missing data ####\n",
    "\n",
    "| Level Code | Meaning |\n",
    "| --- | :- |\n",
    "| 4 | mandatory |\n",
    "| 5 | significant |\n",
    "| 6 | wind level (PPBB) |\n",
    "| 7 | tropopause level |\n",
    "| 8 | maximum wind level |\n",
    "| 9 | surface level |"
   ]
  },
  {
   "cell_type": "code",
   "execution_count": 38,
   "id": "0095a064",
   "metadata": {},
   "outputs": [],
   "source": [
    "#creating new lists for significant data\n",
    "stationSig = []\n",
    "timeSig = []\n",
    "levelCodeSig = []\n",
    "pressureSig = []\n",
    "heightSig = []\n",
    "temperatureSig = []\n",
    "dewpointSig = []\n",
    "windDirectionSig = []\n",
    "windSpeedSig = []\n",
    "bearingSig = []\n",
    "rangeSMSig = []\n",
    "\n",
    "#looping through each level in the sounding checking if the level code is a manditory or significant\n",
    "for index in range(len(levelCode)):\n",
    "    if levelCode[index] == \"4\" or levelCode[index] == \"5\": #if it is, append that index in each data list to its respective significant data list\n",
    "        stationSig.append(station[index])\n",
    "        timeSig.append(time[index])\n",
    "        levelCodeSig.append(levelCode[index])\n",
    "        pressureSig.append(pressure[index])\n",
    "        heightSig.append(height[index])\n",
    "        temperatureSig.append(temperature[index])\n",
    "        dewpointSig.append(dewpoint[index])\n",
    "        windDirectionSig.append(windDirection[index])\n",
    "        windSpeedSig.append(windSpeed[index])\n",
    "        bearingSig.append(bearing[index])\n",
    "        rangeSMSig.append(rangeSM[index])\n",
    "\n",
    "\n"
   ]
  },
  {
   "cell_type": "markdown",
   "id": "0672b7d3",
   "metadata": {},
   "source": [
    "### CONVERT STRINGS ###\n",
    "Some data needs to be floating point numbers, some needs to be integers, some should stay as strings.\n",
    "\n",
    "Hint: You can leave the UTC time as a string and anything that needs NaNs will be a floating point."
   ]
  },
  {
   "cell_type": "code",
   "execution_count": 39,
   "id": "99b298a4",
   "metadata": {},
   "outputs": [],
   "source": [
    "#loop through each level in the significant data\n",
    "for index in range(len(levelCodeSig)): #converting string data types to floats/ints\n",
    "    if levelCodeSig[index] == \"M\": #check for \"M\" every time to avoid type error\n",
    "        levelcodeSig[index] = float(\"NaN\")\n",
    "    else:\n",
    "        levelCodeSig[index] = int(levelCodeSig[index])\n",
    "\n",
    "    if pressureSig[index] == \"M\":\n",
    "        pressureSig[index] = float(\"NaN\")\n",
    "    else:\n",
    "        pressureSig[index] = float(pressureSig[index])\n",
    "\n",
    "    if heightSig[index] == \"M\":\n",
    "        heightSig[index] = float(\"NaN\")\n",
    "    else:\n",
    "        heightSig[index] = float(heightSig[index])\n",
    "\n",
    "    if temperatureSig[index] == \"M\":\n",
    "        #temperatureSig[index] == float(\"NaN\")\n",
    "        #print(\"MMMMM\")\n",
    "        temperatureSig[index] = float(\"NaN\")\n",
    "    else:\n",
    "        temperatureSig[index] = float(temperatureSig[index])\n",
    "\n",
    "    if dewpointSig[index] == \"M\":\n",
    "        dewpointSig[index] = float(\"NaN\")\n",
    "    else:\n",
    "        dewpointSig[index] = float(dewpointSig[index])\n",
    "\n",
    "    if windDirectionSig[index] == \"M\":\n",
    "        windDirectionSig[index] = float(\"NaN\")\n",
    "    else:\n",
    "        windDirectionSig[index] = float(windDirectionSig[index])\n",
    "\n",
    "    if windSpeedSig[index] == \"M\":\n",
    "        windSpeedSig[index] = float(\"NaN\")\n",
    "    else:\n",
    "        windSpeedSig[index] = float(windSpeedSig[index])\n",
    "\n",
    "    if bearingSig[index] == \"M\":\n",
    "        bearingSig[index] = float(\"NaN\")\n",
    "    else:\n",
    "        bearingSig[index] = float(bearingSig[index])\n",
    "\n",
    "    if rangeSMSig[index] == \"M\":\n",
    "        rangeSMSig[index] = float(\"NaN\")\n",
    "    else:\n",
    "        rangeSMSig[index] = float(rangeSMSig[index])\n",
    "\n"
   ]
  },
  {
   "cell_type": "markdown",
   "id": "550558da",
   "metadata": {},
   "source": [
    "### ADD UNITS ###\n",
    "Add units using metpy.\n",
    "\n",
    "Make sure to identify which variables need units.\n",
    "\n",
    "https://unidata.github.io/MetPy/latest/tutorials/unit_tutorial.html"
   ]
  },
  {
   "cell_type": "code",
   "execution_count": 40,
   "id": "d759caa8",
   "metadata": {},
   "outputs": [],
   "source": [
    "''' adding units\n",
    "pressureSig = []\n",
    "heightSig = []\n",
    "temperatureSig = []\n",
    "dewpointSig = []\n",
    "windDirectionSig = []\n",
    "windSpeedSig = []\n",
    "bearingSig = []\n",
    "rangeSMSig = []'''\n",
    "\n",
    "#make sure to\n",
    "#ONLY RUN THIS BLOCK ONCE!!!\n",
    "\n",
    "pressureSig = pressureSig * units(\"millibar\")\n",
    "    \n",
    "heightSig = heightSig * units(\"meters\")\n",
    "\n",
    "temperatureSig = temperatureSig * units(\"degC\")\n",
    "\n",
    "dewpointSig = dewpointSig * units(\"degC\")\n",
    "\n",
    "windDirectionSig = windDirectionSig * units(\"deg\")\n",
    "\n",
    "windSpeedSig = windSpeedSig * units(\"knots\")\n",
    "\n",
    "bearingSig = bearingSig * units(\"deg\")\n",
    "\n",
    "rangeSMSig = rangeSMSig * units(\"miles\")\n",
    "\n"
   ]
  },
  {
   "cell_type": "markdown",
   "id": "2de14125",
   "metadata": {},
   "source": [
    "### CONVERT WINDS TO U,V COMPONENTS ###\n",
    "For this, we will be using the metpy.calc.wind_components() function.  This has been imported as wind_components(). \n",
    "\n",
    "https://unidata.github.io/MetPy/latest/api/generated/metpy.calc.wind_components.html\n",
    "\n",
    "Please see the website above to understand how this function works."
   ]
  },
  {
   "cell_type": "code",
   "execution_count": 41,
   "id": "f439cc83",
   "metadata": {},
   "outputs": [],
   "source": [
    "u, v = wind_components(windSpeedSig, windDirectionSig) #converting speed/direction vectors to their respective u and v components"
   ]
  },
  {
   "cell_type": "markdown",
   "id": "1a8467cf",
   "metadata": {},
   "source": [
    "### CONVERT U,V WINDS TO M/S ###"
   ]
  },
  {
   "cell_type": "code",
   "execution_count": 42,
   "id": "9ba4b1b9",
   "metadata": {},
   "outputs": [],
   "source": [
    "u.ito(\"m/s\")\n",
    "v.ito(\"m/s\") #converting knots into meters / second\n",
    "\n",
    "#print(u)\n",
    "#print(v)"
   ]
  },
  {
   "cell_type": "markdown",
   "id": "b93037f8",
   "metadata": {},
   "source": [
    "### PRINT DATA ###\n",
    "Print the sounding location and the time of the sounding.\n",
    "\n",
    "Then for each 4 or 5 level-code level, print the pressure (in mb), height (in meters), temperature (in degrees Celsius), dewpoint temperature (in degrees Celsius), u and v wind components (in m/s) with commas separating each value.  Make sure to include units."
   ]
  },
  {
   "cell_type": "code",
   "execution_count": 43,
   "id": "5d171fd1",
   "metadata": {},
   "outputs": [
    {
     "name": "stdout",
     "output_type": "stream",
     "text": [
      "KBIS, 2009-01-15 12:00:00\n",
      "1000.0 millibar, 355.0 meter, nan degree_Celsius, nan degree_Celsius, nan meter / second, nan meter / second\n",
      "959.0 millibar, 649.0 meter, -25.3 degree_Celsius, -28.8 degree_Celsius, nan meter / second, nan meter / second\n",
      "949.0 millibar, 726.0 meter, -24.1 degree_Celsius, -27.6 degree_Celsius, nan meter / second, nan meter / second\n",
      "936.0 millibar, 826.0 meter, -22.7 degree_Celsius, -28.7 degree_Celsius, nan meter / second, nan meter / second\n",
      "925.0 millibar, 915.0 meter, -22.9 degree_Celsius, -28.9 degree_Celsius, 2.9814910504789247 meter / second, -0.7988881192164461 meter / second\n",
      "898.0 millibar, 1131.0 meter, -22.9 degree_Celsius, -28.9 degree_Celsius, nan meter / second, nan meter / second\n",
      "851.0 millibar, 1526.0 meter, -21.3 degree_Celsius, -35.3 degree_Celsius, nan meter / second, nan meter / second\n",
      "850.0 millibar, 1536.0 meter, -21.3 degree_Celsius, -35.3 degree_Celsius, 2.5722222222222246 meter / second, -4.455219577246611 meter / second\n",
      "763.0 millibar, 2328.0 meter, -22.5 degree_Celsius, -40.5 degree_Celsius, nan meter / second, nan meter / second\n",
      "730.0 millibar, 2651.0 meter, -24.1 degree_Celsius, -41.1 degree_Celsius, nan meter / second, nan meter / second\n",
      "721.0 millibar, 2741.0 meter, -23.1 degree_Celsius, -41.1 degree_Celsius, nan meter / second, nan meter / second\n",
      "707.0 millibar, 2884.0 meter, -22.9 degree_Celsius, -41.9 degree_Celsius, nan meter / second, nan meter / second\n",
      "700.0 millibar, 2961.0 meter, -23.3 degree_Celsius, -43.3 degree_Celsius, 7.82689020743775 meter / second, -16.784820215918757 meter / second\n",
      "610.0 millibar, 3960.0 meter, -25.9 degree_Celsius, -43.9 degree_Celsius, nan meter / second, nan meter / second\n",
      "510.0 millibar, 5231.0 meter, -34.3 degree_Celsius, -52.3 degree_Celsius, nan meter / second, nan meter / second\n",
      "500.0 millibar, 5370.0 meter, -34.5 degree_Celsius, -52.5 degree_Celsius, 15.871194031748772 meter / second, -34.03588543783526 meter / second\n",
      "463.0 millibar, 5906.0 meter, -34.5 degree_Celsius, -52.5 degree_Celsius, nan meter / second, nan meter / second\n",
      "423.0 millibar, 6530.0 meter, -38.5 degree_Celsius, -53.5 degree_Celsius, nan meter / second, nan meter / second\n",
      "409.0 millibar, 6761.0 meter, -38.7 degree_Celsius, -53.7 degree_Celsius, nan meter / second, nan meter / second\n",
      "400.0 millibar, 6920.0 meter, -39.9 degree_Celsius, -54.9 degree_Celsius, 19.70644061366208 meter / second, -54.143000603860074 meter / second\n",
      "300.0 millibar, 8820.0 meter, -54.7 degree_Celsius, -66.7 degree_Celsius, 16.643502483675984 meter / second, -62.114396884977594 meter / second\n",
      "255.0 millibar, 9842.0 meter, -58.1 degree_Celsius, -69.1 degree_Celsius, nan meter / second, nan meter / second\n",
      "250.0 millibar, 9970.0 meter, -58.3 degree_Celsius, -69.3 degree_Celsius, 20.586192426771994 meter / second, -56.56009884510384 meter / second\n",
      "228.0 millibar, 10548.0 meter, -58.5 degree_Celsius, -69.5 degree_Celsius, nan meter / second, nan meter / second\n",
      "214.0 millibar, 10946.0 meter, -57.7 degree_Celsius, -68.7 degree_Celsius, nan meter / second, nan meter / second\n",
      "209.0 millibar, 11095.0 meter, -56.5 degree_Celsius, -68.5 degree_Celsius, nan meter / second, nan meter / second\n",
      "200.0 millibar, 11380.0 meter, -56.7 degree_Celsius, -68.7 degree_Celsius, 21.523948070453812 meter / second, -46.15825559377659 meter / second\n",
      "192.0 millibar, 11637.0 meter, -57.7 degree_Celsius, -69.7 degree_Celsius, nan meter / second, nan meter / second\n",
      "183.0 millibar, 11939.0 meter, -57.5 degree_Celsius, -69.5 degree_Celsius, nan meter / second, nan meter / second\n",
      "175.0 millibar, 12219.0 meter, -59.1 degree_Celsius, -70.1 degree_Celsius, nan meter / second, nan meter / second\n",
      "168.0 millibar, 12474.0 meter, -59.7 degree_Celsius, -70.7 degree_Celsius, nan meter / second, nan meter / second\n",
      "163.0 millibar, 12662.0 meter, -59.9 degree_Celsius, -70.9 degree_Celsius, nan meter / second, nan meter / second\n",
      "156.0 millibar, 12936.0 meter, -58.7 degree_Celsius, -69.7 degree_Celsius, nan meter / second, nan meter / second\n",
      "150.0 millibar, 13190.0 meter, -58.9 degree_Celsius, -69.9 degree_Celsius, 17.77098662482027 meter / second, -48.82538447312382 meter / second\n",
      "141.0 millibar, 13577.0 meter, -59.5 degree_Celsius, -70.5 degree_Celsius, nan meter / second, nan meter / second\n",
      "130.0 millibar, 14084.0 meter, -59.1 degree_Celsius, -70.1 degree_Celsius, nan meter / second, nan meter / second\n",
      "111.0 millibar, 15064.0 meter, -62.5 degree_Celsius, -73.5 degree_Celsius, nan meter / second, nan meter / second\n",
      "106.0 millibar, 15348.0 meter, -61.9 degree_Celsius, -72.9 degree_Celsius, nan meter / second, nan meter / second\n",
      "104.0 millibar, 15465.0 meter, -62.7 degree_Celsius, -73.7 degree_Celsius, nan meter / second, nan meter / second\n",
      "100.0 millibar, 15710.0 meter, -61.7 degree_Celsius, -72.7 degree_Celsius, 25.966442580763378 meter / second, -37.083923213900746 meter / second\n",
      "91.5 millibar, 16259.0 meter, -61.5 degree_Celsius, -72.5 degree_Celsius, nan meter / second, nan meter / second\n",
      "78.4 millibar, 17204.0 meter, -66.1 degree_Celsius, -76.1 degree_Celsius, nan meter / second, nan meter / second\n",
      "70.0 millibar, 17900.0 meter, -65.9 degree_Celsius, -75.9 degree_Celsius, 35.28541405541005 meter / second, -35.28541405541004 meter / second\n",
      "68.6 millibar, 18022.0 meter, -65.9 degree_Celsius, -75.9 degree_Celsius, nan meter / second, nan meter / second\n",
      "57.6 millibar, 19071.0 meter, -69.3 degree_Celsius, -79.3 degree_Celsius, nan meter / second, nan meter / second\n",
      "52.0 millibar, 19680.0 meter, -69.1 degree_Celsius, -79.1 degree_Celsius, nan meter / second, nan meter / second\n",
      "50.0 millibar, 19920.0 meter, -68.1 degree_Celsius, -78.1 degree_Celsius, 35.713279594184144 meter / second, -42.56142925969041 meter / second\n",
      "47.2 millibar, 20266.0 meter, -66.5 degree_Celsius, -76.5 degree_Celsius, nan meter / second, nan meter / second\n",
      "30.0 millibar, 23000.0 meter, -67.9 degree_Celsius, -77.9 degree_Celsius, 41.83322284919748 meter / second, -41.83322284919746 meter / second\n",
      "20.0 millibar, 25420.0 meter, -69.5 degree_Celsius, -79.5 degree_Celsius, 40.37815422835583 meter / second, -40.37815422835581 meter / second\n",
      "19.9 millibar, 25450.0 meter, -69.5 degree_Celsius, -79.5 degree_Celsius, nan meter / second, nan meter / second\n"
     ]
    }
   ],
   "source": [
    "print(f\"{stationSig[0]}, {timeSig[0]}\") #printing the data to make sure everything looks good\n",
    "\n",
    "for i in range(len(pressureSig)):\n",
    "    print(f\"{pressureSig[i]}, {heightSig[i]}, {temperatureSig[i]}, {dewpointSig[i]}, {u[i]}, {v[i]}\")\n"
   ]
  },
  {
   "cell_type": "markdown",
   "id": "4217c837",
   "metadata": {},
   "source": [
    "### SAVE TO CSV FILE ###\n",
    "Save to CSV without units.  The CSV file should be named KBIS_sounding.csv. Include the following header:\n",
    "\n",
    "{STATION} - {VALID UTC}<br>\n",
    "pressure[mb],height[m],temperature[degC],dewpoint[degC],u-wind[m/s],v-wind[m/s]\n",
    "\n",
    "Make sure that the winds are limited to 2 decimal places."
   ]
  },
  {
   "cell_type": "code",
   "execution_count": 44,
   "id": "0a123e09",
   "metadata": {},
   "outputs": [],
   "source": [
    "with open(\"KBIS_sounding.csv\", \"w\") as outFile:\n",
    "    #write to the file\n",
    "    \n",
    "\n",
    "    #adding header to the file\n",
    "    outFile.write(f\"{stationSig[0]} - {timeSig[0]}\\n\")\n",
    "    outFile.write(\"pressure[mb],height[m],temperature[degC],dewpoint[degC],u-wind[m/s],v-wind[m/s]\")\n",
    "    outFile.write(\"\\n\")\n",
    "\n",
    "    for i in range(len(pressureSig)):\n",
    "        outFile.write(f\"{pressureSig[i].magnitude},\")\n",
    "        outFile.write(f\"{heightSig[i].magnitude},\")\n",
    "        outFile.write(f\"{temperatureSig[i].magnitude},\")\n",
    "        outFile.write(f\"{dewpointSig[i].magnitude},\")\n",
    "        #write u and v as floats with 2 values after the decimal point\n",
    "        outFile.write(f\"{u[i].magnitude:0.2f},\")\n",
    "        outFile.write(f\"{v[i].magnitude:0.2f}\")\n",
    "        outFile.write(\"\\n\")\n"
   ]
  },
  {
   "cell_type": "markdown",
   "id": "cccc9432",
   "metadata": {},
   "source": [
    "### OPEN THE CSV FILE IN NUMPY ###\n",
    "\n",
    "Here, we are going to use the numpy genfromtxt() function - np.genfromtxt()\n",
    "\n",
    "https://numpy.org/doc/stable/reference/generated/numpy.genfromtxt.html\n",
    "\n",
    "use the names press,height,temp,dwpt,u,v"
   ]
  },
  {
   "cell_type": "code",
   "execution_count": 45,
   "id": "0db560cc",
   "metadata": {},
   "outputs": [],
   "source": [
    "#opening the file we just created using a numpy data type\n",
    "\n",
    "data = np.genfromtxt(\"KBIS_sounding.csv\", delimiter=\",\", skip_header=2, names=\"press,height,temp,dwpt,u,v\")\n",
    "#print(data[\"u\"])"
   ]
  },
  {
   "cell_type": "markdown",
   "id": "717119e8",
   "metadata": {},
   "source": [
    "### RUN THE CELL BELOW ###\n",
    "If the code above was correct, it should print out the pressure as an array, then temperature as an array, and finally, u-wind component as an array - all with units.\n",
    "\n",
    "Note that the units are now outside the array instead of applied to each element as they were in the list."
   ]
  },
  {
   "cell_type": "code",
   "execution_count": null,
   "id": "2d50731a",
   "metadata": {},
   "outputs": [],
   "source": []
  },
  {
   "cell_type": "markdown",
   "id": "c73a0ad7",
   "metadata": {},
   "source": [
    "### OPEN THE CSV FILE IN PANDAS ###\n",
    "Now we are going to open the CSV file into a pandas dataframe.\n",
    "\n",
    "Dataframes are somewhat like arrays but a bit more complicated.\n",
    "\n",
    "Here, we will use the pandas.read_csv() function - pd.read_csv()\n",
    "\n",
    "Use the same names as above.\n",
    "\n",
    "https://pandas.pydata.org/docs/reference/api/pandas.read_csv.html"
   ]
  },
  {
   "cell_type": "code",
   "execution_count": 46,
   "id": "3299a386",
   "metadata": {},
   "outputs": [
    {
     "name": "stdout",
     "output_type": "stream",
     "text": [
      "    pressure[mb]  height[m]  temperature[degC]  dewpoint[degC]  u-wind[m/s]  \\\n",
      "0         1000.0      355.0                NaN             NaN          NaN   \n",
      "1          959.0      649.0              -25.3           -28.8          NaN   \n",
      "2          949.0      726.0              -24.1           -27.6          NaN   \n",
      "3          936.0      826.0              -22.7           -28.7          NaN   \n",
      "4          925.0      915.0              -22.9           -28.9         2.98   \n",
      "5          898.0     1131.0              -22.9           -28.9          NaN   \n",
      "6          851.0     1526.0              -21.3           -35.3          NaN   \n",
      "7          850.0     1536.0              -21.3           -35.3         2.57   \n",
      "8          763.0     2328.0              -22.5           -40.5          NaN   \n",
      "9          730.0     2651.0              -24.1           -41.1          NaN   \n",
      "10         721.0     2741.0              -23.1           -41.1          NaN   \n",
      "11         707.0     2884.0              -22.9           -41.9          NaN   \n",
      "12         700.0     2961.0              -23.3           -43.3         7.83   \n",
      "13         610.0     3960.0              -25.9           -43.9          NaN   \n",
      "14         510.0     5231.0              -34.3           -52.3          NaN   \n",
      "15         500.0     5370.0              -34.5           -52.5        15.87   \n",
      "16         463.0     5906.0              -34.5           -52.5          NaN   \n",
      "17         423.0     6530.0              -38.5           -53.5          NaN   \n",
      "18         409.0     6761.0              -38.7           -53.7          NaN   \n",
      "19         400.0     6920.0              -39.9           -54.9        19.71   \n",
      "20         300.0     8820.0              -54.7           -66.7        16.64   \n",
      "21         255.0     9842.0              -58.1           -69.1          NaN   \n",
      "22         250.0     9970.0              -58.3           -69.3        20.59   \n",
      "23         228.0    10548.0              -58.5           -69.5          NaN   \n",
      "24         214.0    10946.0              -57.7           -68.7          NaN   \n",
      "25         209.0    11095.0              -56.5           -68.5          NaN   \n",
      "26         200.0    11380.0              -56.7           -68.7        21.52   \n",
      "27         192.0    11637.0              -57.7           -69.7          NaN   \n",
      "28         183.0    11939.0              -57.5           -69.5          NaN   \n",
      "29         175.0    12219.0              -59.1           -70.1          NaN   \n",
      "30         168.0    12474.0              -59.7           -70.7          NaN   \n",
      "31         163.0    12662.0              -59.9           -70.9          NaN   \n",
      "32         156.0    12936.0              -58.7           -69.7          NaN   \n",
      "33         150.0    13190.0              -58.9           -69.9        17.77   \n",
      "34         141.0    13577.0              -59.5           -70.5          NaN   \n",
      "35         130.0    14084.0              -59.1           -70.1          NaN   \n",
      "36         111.0    15064.0              -62.5           -73.5          NaN   \n",
      "37         106.0    15348.0              -61.9           -72.9          NaN   \n",
      "38         104.0    15465.0              -62.7           -73.7          NaN   \n",
      "39         100.0    15710.0              -61.7           -72.7        25.97   \n",
      "40          91.5    16259.0              -61.5           -72.5          NaN   \n",
      "41          78.4    17204.0              -66.1           -76.1          NaN   \n",
      "42          70.0    17900.0              -65.9           -75.9        35.29   \n",
      "43          68.6    18022.0              -65.9           -75.9          NaN   \n",
      "44          57.6    19071.0              -69.3           -79.3          NaN   \n",
      "45          52.0    19680.0              -69.1           -79.1          NaN   \n",
      "46          50.0    19920.0              -68.1           -78.1        35.71   \n",
      "47          47.2    20266.0              -66.5           -76.5          NaN   \n",
      "48          30.0    23000.0              -67.9           -77.9        41.83   \n",
      "49          20.0    25420.0              -69.5           -79.5        40.38   \n",
      "50          19.9    25450.0              -69.5           -79.5          NaN   \n",
      "\n",
      "    v-wind[m/s]  \n",
      "0           NaN  \n",
      "1           NaN  \n",
      "2           NaN  \n",
      "3           NaN  \n",
      "4         -0.80  \n",
      "5           NaN  \n",
      "6           NaN  \n",
      "7         -4.46  \n",
      "8           NaN  \n",
      "9           NaN  \n",
      "10          NaN  \n",
      "11          NaN  \n",
      "12       -16.78  \n",
      "13          NaN  \n",
      "14          NaN  \n",
      "15       -34.04  \n",
      "16          NaN  \n",
      "17          NaN  \n",
      "18          NaN  \n",
      "19       -54.14  \n",
      "20       -62.11  \n",
      "21          NaN  \n",
      "22       -56.56  \n",
      "23          NaN  \n",
      "24          NaN  \n",
      "25          NaN  \n",
      "26       -46.16  \n",
      "27          NaN  \n",
      "28          NaN  \n",
      "29          NaN  \n",
      "30          NaN  \n",
      "31          NaN  \n",
      "32          NaN  \n",
      "33       -48.83  \n",
      "34          NaN  \n",
      "35          NaN  \n",
      "36          NaN  \n",
      "37          NaN  \n",
      "38          NaN  \n",
      "39       -37.08  \n",
      "40          NaN  \n",
      "41          NaN  \n",
      "42       -35.29  \n",
      "43          NaN  \n",
      "44          NaN  \n",
      "45          NaN  \n",
      "46       -42.56  \n",
      "47          NaN  \n",
      "48       -41.83  \n",
      "49       -40.38  \n",
      "50          NaN  \n"
     ]
    }
   ],
   "source": [
    "#doing the same thing with pandas instead\n",
    "\n",
    "dataPD = pd.read_csv(\"KBIS_sounding.csv\", delimiter=\",\", skiprows=1)\n",
    "\n",
    "print(dataPD)"
   ]
  },
  {
   "cell_type": "markdown",
   "id": "6eeb0151",
   "metadata": {},
   "source": [
    "### NOW PRINT THE DATAFRAME ###\n",
    "If done correctly, you should see the column names auto-populated."
   ]
  },
  {
   "cell_type": "code",
   "execution_count": null,
   "id": "f053bec3",
   "metadata": {},
   "outputs": [],
   "source": []
  }
 ],
 "metadata": {
  "kernelspec": {
   "display_name": "Python 3 (ipykernel)",
   "language": "python",
   "name": "python3"
  },
  "language_info": {
   "codemirror_mode": {
    "name": "ipython",
    "version": 3
   },
   "file_extension": ".py",
   "mimetype": "text/x-python",
   "name": "python",
   "nbconvert_exporter": "python",
   "pygments_lexer": "ipython3",
   "version": "3.11.7"
  }
 },
 "nbformat": 4,
 "nbformat_minor": 5
}
